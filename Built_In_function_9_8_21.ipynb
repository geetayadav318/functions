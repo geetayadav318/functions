{
  "nbformat": 4,
  "nbformat_minor": 0,
  "metadata": {
    "kernelspec": {
      "display_name": "Python 3",
      "language": "python",
      "name": "python3"
    },
    "language_info": {
      "codemirror_mode": {
        "name": "ipython",
        "version": 3
      },
      "file_extension": ".py",
      "mimetype": "text/x-python",
      "name": "python",
      "nbconvert_exporter": "python",
      "pygments_lexer": "ipython3",
      "version": "3.8.5"
    },
    "colab": {
      "name": "Built_In_function_9_8_21.ipynb",
      "provenance": [],
      "include_colab_link": true
    }
  },
  "cells": [
    {
      "cell_type": "markdown",
      "metadata": {
        "id": "view-in-github",
        "colab_type": "text"
      },
      "source": [
        "<a href=\"https://colab.research.google.com/github/geetayadav318/functions/blob/main/Built_In_function_9_8_21.ipynb\" target=\"_parent\"><img src=\"https://colab.research.google.com/assets/colab-badge.svg\" alt=\"Open In Colab\"/></a>"
      ]
    },
    {
      "cell_type": "code",
      "metadata": {
        "id": "P_xXvI_RV7b-",
        "outputId": "bcef7e29-1998-4f28-e88d-21e64f6308a8"
      },
      "source": [
        "#abs ()---> returns the absolute value\n",
        "x=-56.67\n",
        "print(abs(x))\n"
      ],
      "execution_count": null,
      "outputs": [
        {
          "output_type": "stream",
          "text": [
            "56.67\n"
          ],
          "name": "stdout"
        }
      ]
    },
    {
      "cell_type": "code",
      "metadata": {
        "id": "5u5Uuy43V7cC",
        "outputId": "07151954-888d-44d8-93bf-f3de822eddbe"
      },
      "source": [
        "x=56.67\n",
        "print(abs(x))"
      ],
      "execution_count": null,
      "outputs": [
        {
          "output_type": "stream",
          "text": [
            "56.67\n"
          ],
          "name": "stdout"
        }
      ]
    },
    {
      "cell_type": "code",
      "metadata": {
        "id": "asGcZzZaV7cD",
        "outputId": "139f31df-c0d8-4978-f0c0-22c92be56532"
      },
      "source": [
        "lst=[1,-23,4,-43]\n",
        "print(abs(lst[1]))"
      ],
      "execution_count": null,
      "outputs": [
        {
          "output_type": "stream",
          "text": [
            "23\n"
          ],
          "name": "stdout"
        }
      ]
    },
    {
      "cell_type": "code",
      "metadata": {
        "id": "BB1IDUptV7cE",
        "outputId": "97619347-fbb5-44e8-d851-cb089d769281"
      },
      "source": [
        "lst=[1,-23,4,-43]\n",
        "lst2=[]\n",
        "for i in lst:\n",
        "    lst2.append(abs(i))\n",
        "print(lst2)"
      ],
      "execution_count": null,
      "outputs": [
        {
          "output_type": "stream",
          "text": [
            "[1, 23, 4, 43]\n"
          ],
          "name": "stdout"
        }
      ]
    },
    {
      "cell_type": "markdown",
      "metadata": {
        "id": "WPT8Yn6UV7cE"
      },
      "source": [
        "### Split()"
      ]
    },
    {
      "cell_type": "code",
      "metadata": {
        "id": "1VPJyKLRV7cF",
        "outputId": "977e4316-9f90-47c2-cbd0-d47a7ec090e6"
      },
      "source": [
        "a='good morning everyone in the class'\n",
        "a1=a.split()\n",
        "print(a1)"
      ],
      "execution_count": null,
      "outputs": [
        {
          "output_type": "stream",
          "text": [
            "['good', 'morning', 'everyone', 'in', 'the', 'class']\n"
          ],
          "name": "stdout"
        }
      ]
    },
    {
      "cell_type": "code",
      "metadata": {
        "id": "3hv0Htn6V7cF",
        "outputId": "c22d3ccc-6f5f-4fc1-caae-3c6ad25e6fe7"
      },
      "source": [
        "#by defaUlt it separating words with respect whitespaces\n",
        "\n",
        "a='hello all, my name is Elon,I belongs to SA'\n",
        "print(a.split())"
      ],
      "execution_count": null,
      "outputs": [
        {
          "output_type": "stream",
          "text": [
            "['hello', 'all,', 'my', 'name', 'is', 'Elon,I', 'belongs', 'to', 'SA']\n"
          ],
          "name": "stdout"
        }
      ]
    },
    {
      "cell_type": "code",
      "metadata": {
        "id": "QjTcjJcxV7cG",
        "outputId": "2d10863d-e82f-479f-f068-cae3023871cd"
      },
      "source": [
        "#comma ',' will separate the words\n",
        "a='hello all, my name is Elon,I belongs to SA'\n",
        "print(a.split(','))"
      ],
      "execution_count": null,
      "outputs": [
        {
          "output_type": "stream",
          "text": [
            "['hello all', ' my name is Elon', 'I belongs to SA']\n"
          ],
          "name": "stdout"
        }
      ]
    },
    {
      "cell_type": "code",
      "metadata": {
        "id": "uuHBrnUkV7cI",
        "outputId": "1d2eb268-8ec9-48de-c29f-17468e48f978"
      },
      "source": [
        "a='gita*ram*shyam*laxman'\n",
        "a1=a.split('*')\n",
        "print(a1)\n",
        "len(a1)\n",
        "type(a1)"
      ],
      "execution_count": null,
      "outputs": [
        {
          "output_type": "stream",
          "text": [
            "['gita', 'ram', 'shyam', 'laxman']\n"
          ],
          "name": "stdout"
        },
        {
          "output_type": "execute_result",
          "data": {
            "text/plain": [
              "list"
            ]
          },
          "metadata": {
            "tags": []
          },
          "execution_count": 16
        }
      ]
    },
    {
      "cell_type": "code",
      "metadata": {
        "id": "AvRak902V7cJ",
        "outputId": "bc9233c5-f78a-4ec0-8098-cd8a5b7d73b6"
      },
      "source": [
        "a='gita*ram*shyam*laxman*varun*raj'\n",
        "a1=a.split('*',3)\n",
        "print(a1)"
      ],
      "execution_count": null,
      "outputs": [
        {
          "output_type": "stream",
          "text": [
            "['gita', 'ram', 'shyam', 'laxman*varun*raj']\n"
          ],
          "name": "stdout"
        }
      ]
    },
    {
      "cell_type": "code",
      "metadata": {
        "id": "oLwHNXKBV7cL",
        "outputId": "901c131d-636a-44f4-f44b-7e028937d6b9"
      },
      "source": [
        "s='good    morning'\n",
        "s.split('   ')"
      ],
      "execution_count": null,
      "outputs": [
        {
          "output_type": "execute_result",
          "data": {
            "text/plain": [
              "['good', ' morning']"
            ]
          },
          "metadata": {
            "tags": []
          },
          "execution_count": 25
        }
      ]
    },
    {
      "cell_type": "markdown",
      "metadata": {
        "id": "-MQgOnOFV7cM"
      },
      "source": [
        "### Capitalize"
      ]
    },
    {
      "cell_type": "code",
      "metadata": {
        "id": "OsJ0N1zUV7cM",
        "outputId": "f77105d7-fa13-4cd7-f58d-4c5fb409f2ff"
      },
      "source": [
        "a='good morning everyone in the class'\n",
        "a.capitalize()"
      ],
      "execution_count": null,
      "outputs": [
        {
          "output_type": "execute_result",
          "data": {
            "text/plain": [
              "'Good morning everyone in the class'"
            ]
          },
          "metadata": {
            "tags": []
          },
          "execution_count": 26
        }
      ]
    },
    {
      "cell_type": "code",
      "metadata": {
        "id": "hqTFmvrXV7cN",
        "outputId": "022e4523-f20e-47eb-d6c6-15bc8b78f17f"
      },
      "source": [
        "a='5 good morning everyone in the class'\n",
        "a.capitalize()"
      ],
      "execution_count": null,
      "outputs": [
        {
          "output_type": "execute_result",
          "data": {
            "text/plain": [
              "'5 good morning everyone in the class'"
            ]
          },
          "metadata": {
            "tags": []
          },
          "execution_count": 27
        }
      ]
    },
    {
      "cell_type": "markdown",
      "metadata": {
        "id": "biiJC6p2V7cN"
      },
      "source": [
        "### isalpha()"
      ]
    },
    {
      "cell_type": "code",
      "metadata": {
        "id": "0udhJuwgV7cN",
        "outputId": "40ff3cde-f25a-4a3c-d72c-1c4ec24c1b99"
      },
      "source": [
        "a='good'\n",
        "a.isalpha()"
      ],
      "execution_count": null,
      "outputs": [
        {
          "output_type": "execute_result",
          "data": {
            "text/plain": [
              "True"
            ]
          },
          "metadata": {
            "tags": []
          },
          "execution_count": 28
        }
      ]
    },
    {
      "cell_type": "code",
      "metadata": {
        "id": "2s5SmYwmV7cO",
        "outputId": "7a53d0cb-90cc-44cd-ace1-805de0ac973d"
      },
      "source": [
        "a='good3'\n",
        "a.isalpha()"
      ],
      "execution_count": null,
      "outputs": [
        {
          "output_type": "execute_result",
          "data": {
            "text/plain": [
              "False"
            ]
          },
          "metadata": {
            "tags": []
          },
          "execution_count": 29
        }
      ]
    },
    {
      "cell_type": "markdown",
      "metadata": {
        "id": "cwZ1NFuvV7cO"
      },
      "source": [
        "### isnumeric ()"
      ]
    },
    {
      "cell_type": "code",
      "metadata": {
        "id": "D8njyKcaV7cO",
        "outputId": "7b84db86-d7d5-4a1c-80e1-488fa45282a9"
      },
      "source": [
        "a='546546246546'\n",
        "a.isnumeric()"
      ],
      "execution_count": null,
      "outputs": [
        {
          "output_type": "execute_result",
          "data": {
            "text/plain": [
              "True"
            ]
          },
          "metadata": {
            "tags": []
          },
          "execution_count": 1
        }
      ]
    },
    {
      "cell_type": "code",
      "metadata": {
        "id": "h0sdRW-pV7cO",
        "outputId": "d90c6746-8d4a-47ea-8721-00afc4c243aa"
      },
      "source": [
        "a='546546246546abc'\n",
        "a.isnumeric()"
      ],
      "execution_count": null,
      "outputs": [
        {
          "output_type": "execute_result",
          "data": {
            "text/plain": [
              "False"
            ]
          },
          "metadata": {
            "tags": []
          },
          "execution_count": 2
        }
      ]
    },
    {
      "cell_type": "code",
      "metadata": {
        "id": "BSrCYJp5V7cO",
        "outputId": "4b4ac050-3792-441f-eac2-033ddbaf6ebb"
      },
      "source": [
        "a='-546546246546'\n",
        "a.isnumeric()"
      ],
      "execution_count": null,
      "outputs": [
        {
          "output_type": "execute_result",
          "data": {
            "text/plain": [
              "False"
            ]
          },
          "metadata": {
            "tags": []
          },
          "execution_count": 3
        }
      ]
    },
    {
      "cell_type": "code",
      "metadata": {
        "id": "fJ3UA5gQV7cP",
        "outputId": "0756f3c7-9aa2-4616-aa19-f2c331b81b27"
      },
      "source": [
        "a='5 34'\n",
        "a.isnumeric()"
      ],
      "execution_count": null,
      "outputs": [
        {
          "output_type": "execute_result",
          "data": {
            "text/plain": [
              "False"
            ]
          },
          "metadata": {
            "tags": []
          },
          "execution_count": 5
        }
      ]
    },
    {
      "cell_type": "markdown",
      "metadata": {
        "id": "ob1Y-dMhV7cP"
      },
      "source": [
        "### isspace()"
      ]
    },
    {
      "cell_type": "code",
      "metadata": {
        "id": "Ny1OB54GV7cP",
        "outputId": "be8e4223-78a3-4ed2-d243-b31f305c7afe"
      },
      "source": [
        "x=' '\n",
        "print(x.isspace())"
      ],
      "execution_count": null,
      "outputs": [
        {
          "output_type": "stream",
          "text": [
            "True\n"
          ],
          "name": "stdout"
        }
      ]
    },
    {
      "cell_type": "code",
      "metadata": {
        "id": "h8mgrdXoV7cP",
        "outputId": "630cdbec-940e-4496-a775-5be87c9def04"
      },
      "source": [
        "x='        '\n",
        "print(x.isspace())"
      ],
      "execution_count": null,
      "outputs": [
        {
          "output_type": "stream",
          "text": [
            "True\n"
          ],
          "name": "stdout"
        }
      ]
    },
    {
      "cell_type": "code",
      "metadata": {
        "id": "2W68TYImV7cP",
        "outputId": "cd76ff94-86f1-4d76-dee0-5233b5c77be3"
      },
      "source": [
        "x='      abc  '\n",
        "print(x.isspace())"
      ],
      "execution_count": null,
      "outputs": [
        {
          "output_type": "stream",
          "text": [
            "False\n"
          ],
          "name": "stdout"
        }
      ]
    },
    {
      "cell_type": "markdown",
      "metadata": {
        "id": "fLGOUl3rV7cQ"
      },
      "source": [
        "### islower ()"
      ]
    },
    {
      "cell_type": "code",
      "metadata": {
        "id": "wiEjINTjV7cQ",
        "outputId": "efda2859-c8f3-4698-ee3c-807a3aa60052"
      },
      "source": [
        "s=' hello everyone, good morning all'\n",
        "print(s.islower())"
      ],
      "execution_count": null,
      "outputs": [
        {
          "output_type": "stream",
          "text": [
            "True\n"
          ],
          "name": "stdout"
        }
      ]
    },
    {
      "cell_type": "code",
      "metadata": {
        "id": "9HthL4KjV7cQ",
        "outputId": "81202007-df1e-44d7-953e-e6b5f9d9ecce"
      },
      "source": [
        "s='Hello everyone, good morning all'\n",
        "print(s.islower())"
      ],
      "execution_count": null,
      "outputs": [
        {
          "output_type": "stream",
          "text": [
            "False\n"
          ],
          "name": "stdout"
        }
      ]
    },
    {
      "cell_type": "code",
      "metadata": {
        "id": "77_T-X-TV7cQ",
        "outputId": "5216f883-902d-4f7d-ad30-96aa99a33b9d"
      },
      "source": [
        "s='hello everyone, good morning all, today is 5th august'\n",
        "print(s.islower())"
      ],
      "execution_count": null,
      "outputs": [
        {
          "output_type": "stream",
          "text": [
            "True\n"
          ],
          "name": "stdout"
        }
      ]
    },
    {
      "cell_type": "markdown",
      "metadata": {
        "id": "kjtCQAM6V7cQ"
      },
      "source": [
        "### isupper ()"
      ]
    },
    {
      "cell_type": "code",
      "metadata": {
        "id": "g9U1kiogV7cQ",
        "outputId": "92099f2c-4f38-47f0-d5c0-4575ed93e996"
      },
      "source": [
        "s='GOOD AFTERNOON'\n",
        "s.isupper()"
      ],
      "execution_count": null,
      "outputs": [
        {
          "output_type": "execute_result",
          "data": {
            "text/plain": [
              "True"
            ]
          },
          "metadata": {
            "tags": []
          },
          "execution_count": 15
        }
      ]
    },
    {
      "cell_type": "code",
      "metadata": {
        "id": "N7YwzjvCV7cR",
        "outputId": "d7173e00-78bf-4bd9-acc2-660b00fcca03"
      },
      "source": [
        "s='GOOD AFTERNOON all'\n",
        "s.isupper()"
      ],
      "execution_count": null,
      "outputs": [
        {
          "output_type": "execute_result",
          "data": {
            "text/plain": [
              "False"
            ]
          },
          "metadata": {
            "tags": []
          },
          "execution_count": 17
        }
      ]
    },
    {
      "cell_type": "markdown",
      "metadata": {
        "id": "DdSm1HyNV7cT"
      },
      "source": [
        "### upper ()"
      ]
    },
    {
      "cell_type": "code",
      "metadata": {
        "id": "UbOoN4-8V7cT",
        "outputId": "2d76e4f2-84aa-42fc-d639-bf7af8a35b2e"
      },
      "source": [
        "s='hello everyone, good morning all, today is 5th august'\n",
        "s1=s.upper()\n",
        "print(s1)"
      ],
      "execution_count": null,
      "outputs": [
        {
          "output_type": "stream",
          "text": [
            "HELLO EVERYONE, GOOD MORNING ALL, TODAY IS 5TH AUGUST\n"
          ],
          "name": "stdout"
        }
      ]
    },
    {
      "cell_type": "markdown",
      "metadata": {
        "id": "xnwzCMBEV7cT"
      },
      "source": [
        "### lower () "
      ]
    },
    {
      "cell_type": "code",
      "metadata": {
        "id": "Cx0Y-PrgV7cT",
        "outputId": "a54bfa24-e329-4bf9-a6c9-91ed750ea5bf"
      },
      "source": [
        "s='HELLO EVERYONE, GOOD MORNING ALL, TODAY IS 5TH AUGUST'\n",
        "s1=s.lower()\n",
        "print(s1)"
      ],
      "execution_count": null,
      "outputs": [
        {
          "output_type": "stream",
          "text": [
            "hello everyone, good morning all, today is 5th august\n"
          ],
          "name": "stdout"
        }
      ]
    },
    {
      "cell_type": "code",
      "metadata": {
        "id": "6HRHVHazV7cT",
        "outputId": "28d841f7-2a84-4852-cfd0-e36ff72ca2db"
      },
      "source": [
        "s='HELLO EVERYONE, good MORNING ALL, TODAY IS 5TH AUGUST'\n",
        "s1=s.lower()\n",
        "print(s1)"
      ],
      "execution_count": null,
      "outputs": [
        {
          "output_type": "stream",
          "text": [
            "hello everyone, good morning all, today is 5th august\n"
          ],
          "name": "stdout"
        }
      ]
    },
    {
      "cell_type": "code",
      "metadata": {
        "id": "dW8pvDM1V7cU",
        "outputId": "05b843bf-6abe-40f2-809c-6bcab0194701"
      },
      "source": [
        "# int()----converts the number into intger\n",
        "a=int(56.47)\n",
        "print(a)"
      ],
      "execution_count": null,
      "outputs": [
        {
          "output_type": "stream",
          "text": [
            "56\n"
          ],
          "name": "stdout"
        }
      ]
    },
    {
      "cell_type": "code",
      "metadata": {
        "id": "6Nt-g0stV7cU",
        "outputId": "77199132-e9e5-4004-d48c-1bdef4c5b54f"
      },
      "source": [
        "#len\n",
        "print(len('Batch@9am'))\n",
        "\n",
        "s='HELLO EVERYONE, GOOD MORNING ALL, TODAY IS 5TH AUGUST'\n",
        "print(len(s))"
      ],
      "execution_count": null,
      "outputs": [
        {
          "output_type": "stream",
          "text": [
            "9\n",
            "53\n"
          ],
          "name": "stdout"
        }
      ]
    },
    {
      "cell_type": "code",
      "metadata": {
        "id": "9qvHvesCV7cU",
        "outputId": "b53704e1-2477-44cd-cb3f-100249afbc10"
      },
      "source": [
        "#min() and max()\n",
        "a=[1,5,6,79,15,48,19]\n",
        "print(min(a))\n",
        "print(max(a))"
      ],
      "execution_count": null,
      "outputs": [
        {
          "output_type": "stream",
          "text": [
            "1\n",
            "79\n"
          ],
          "name": "stdout"
        }
      ]
    },
    {
      "cell_type": "code",
      "metadata": {
        "id": "Okcuqyb_V7cU",
        "outputId": "a8e3db0e-02c2-4178-847d-c9568a91bdba"
      },
      "source": [
        "#type(), sum()\n",
        "a=[1,5,6,79,15,48,19]\n",
        "print(type(a))\n",
        "print(sum(a))"
      ],
      "execution_count": null,
      "outputs": [
        {
          "output_type": "stream",
          "text": [
            "<class 'list'>\n",
            "173\n"
          ],
          "name": "stdout"
        }
      ]
    },
    {
      "cell_type": "markdown",
      "metadata": {
        "id": "KL9V-O6JV7cU"
      },
      "source": [
        "### User defined function"
      ]
    },
    {
      "cell_type": "code",
      "metadata": {
        "id": "q79aFtMKV7cU",
        "outputId": "4a33a4cd-0774-4ad0-b9a4-b54271896259"
      },
      "source": [
        "#function without argument\n",
        "\n",
        "def myfun():\n",
        "    print('hello ')\n",
        "    print('how are you')\n",
        "    print('where do u live?')\n",
        "    \n",
        "myfun()"
      ],
      "execution_count": null,
      "outputs": [
        {
          "output_type": "stream",
          "text": [
            "hello \n",
            "how are you\n",
            "where do u live?\n"
          ],
          "name": "stdout"
        }
      ]
    },
    {
      "cell_type": "code",
      "metadata": {
        "id": "J2jg9En8V7cV",
        "outputId": "dba3cac4-f19d-4c08-cda9-050f2cc1fa86"
      },
      "source": [
        "#add particular number in argument numbers\n",
        "\n",
        "def add(a):\n",
        "    print(a+10)\n",
        "add(50)"
      ],
      "execution_count": null,
      "outputs": [
        {
          "output_type": "stream",
          "text": [
            "60\n"
          ],
          "name": "stdout"
        }
      ]
    },
    {
      "cell_type": "code",
      "metadata": {
        "id": "5OjorQHPV7cV",
        "outputId": "1b05620b-e81b-44d3-dbb1-dc0dfe110933"
      },
      "source": [
        "add(100)"
      ],
      "execution_count": null,
      "outputs": [
        {
          "output_type": "stream",
          "text": [
            "110\n"
          ],
          "name": "stdout"
        }
      ]
    },
    {
      "cell_type": "code",
      "metadata": {
        "id": "KnxDlLJiV7cV",
        "outputId": "b09a190a-ff0a-44e3-8c2a-778cbb809a34"
      },
      "source": [
        "def add(a,b):\n",
        "    print(a+b)\n",
        "\n",
        "\n",
        "add(40,100)"
      ],
      "execution_count": null,
      "outputs": [
        {
          "output_type": "stream",
          "text": [
            "140\n"
          ],
          "name": "stdout"
        }
      ]
    },
    {
      "cell_type": "code",
      "metadata": {
        "id": "hdu-1CC3V7cV",
        "outputId": "6d755811-011d-4d41-968b-ba3299e94add"
      },
      "source": [
        "# create a function to calculate average of two numbers\n",
        "\n",
        "def avg(a,b):\n",
        "    print((a+b)/2)\n",
        "avg(10,20)"
      ],
      "execution_count": null,
      "outputs": [
        {
          "output_type": "stream",
          "text": [
            "15.0\n"
          ],
          "name": "stdout"
        }
      ]
    },
    {
      "cell_type": "code",
      "metadata": {
        "id": "wqiwnyesV7cV",
        "outputId": "ce3e0f91-c78c-4e07-d0f3-09b0e6548a13"
      },
      "source": [
        "# create a function to calculate average of two numbers\n",
        "\n",
        "def avg(a,b):\n",
        "    print('average of a and b is',(a+b)/2)\n",
        "    print('end of code')\n",
        "avg(10,20)"
      ],
      "execution_count": null,
      "outputs": [
        {
          "output_type": "stream",
          "text": [
            "average of a and b is 15.0\n",
            "end of code\n"
          ],
          "name": "stdout"
        }
      ]
    },
    {
      "cell_type": "code",
      "metadata": {
        "id": "w9OHS5kVV7cV",
        "outputId": "a94e1497-6bd1-4e04-e574-1e17ae5b3f41"
      },
      "source": [
        "# create a function to calculate average of two numbers\n",
        "\n",
        "def avg(a,b):\n",
        "    print('average of',a,'and', b, 'is',(a+b)/2)\n",
        "    print('end of code')\n",
        "avg(10,20)"
      ],
      "execution_count": null,
      "outputs": [
        {
          "output_type": "stream",
          "text": [
            "average of 10 and 20 is 15.0\n",
            "end of code\n"
          ],
          "name": "stdout"
        }
      ]
    },
    {
      "cell_type": "code",
      "metadata": {
        "id": "0sh2-rNsV7cV",
        "outputId": "40f575e0-b1e6-4520-83cb-2feebdcfbdce"
      },
      "source": [
        "avg(100,200)"
      ],
      "execution_count": null,
      "outputs": [
        {
          "output_type": "stream",
          "text": [
            "average of 100 and 200 is 150.0\n",
            "end of code\n"
          ],
          "name": "stdout"
        }
      ]
    },
    {
      "cell_type": "code",
      "metadata": {
        "id": "p2UBPuxDV7cW",
        "outputId": "7877858d-5fa5-4a24-f990-40b43841deea"
      },
      "source": [
        "def myfun(a,b):\n",
        "    if a<b:\n",
        "        print(a+b)\n",
        "    else:\n",
        "        print(a-b)\n",
        "myfun(150,200)\n",
        "myfun(500,200)"
      ],
      "execution_count": null,
      "outputs": [
        {
          "output_type": "stream",
          "text": [
            "350\n",
            "300\n"
          ],
          "name": "stdout"
        }
      ]
    },
    {
      "cell_type": "code",
      "metadata": {
        "id": "jhIOSXsuV7cW",
        "outputId": "6be16c42-ca53-4590-b16d-fd0a8f24fe4b"
      },
      "source": [
        "def myfun(a,b):\n",
        "    if a<b:\n",
        "        print('addition is',a+b)\n",
        "        print('multiplication is',a*b)\n",
        "    else:\n",
        "        print('subtraction is ',a-b)\n",
        "        print('division is',a/b)\n",
        "myfun(150,200)\n",
        "myfun(500,200)"
      ],
      "execution_count": null,
      "outputs": [
        {
          "output_type": "stream",
          "text": [
            "addition is 350\n",
            "multiplication is 30000\n",
            "subtraction is  300\n",
            "division is 2.5\n"
          ],
          "name": "stdout"
        }
      ]
    },
    {
      "cell_type": "code",
      "metadata": {
        "id": "viRrETGNV7cW",
        "outputId": "6d87e4ba-3d92-4187-a215-4900eb6b9f0f"
      },
      "source": [
        "def evenodd(a):\n",
        "    if a%2==0:\n",
        "        print(a,'is even')\n",
        "    else:\n",
        "        print(a, 'is not even')\n",
        "evenodd(10)\n",
        "evenodd(15)"
      ],
      "execution_count": null,
      "outputs": [
        {
          "output_type": "stream",
          "text": [
            "10 is even\n"
          ],
          "name": "stdout"
        }
      ]
    },
    {
      "cell_type": "markdown",
      "metadata": {
        "id": "jrOtkuDbV7cW"
      },
      "source": [
        "### Python Modules\n",
        "\n",
        "it is a set of function whic is stored or written to use in a future"
      ]
    },
    {
      "cell_type": "code",
      "metadata": {
        "id": "aWVZ8g9GV7cW"
      },
      "source": [
        "import module"
      ],
      "execution_count": null,
      "outputs": []
    },
    {
      "cell_type": "code",
      "metadata": {
        "id": "XlaXw_xFV7cW",
        "outputId": "d4a64c48-74fb-43a7-e853-e78b55245292"
      },
      "source": [
        "module.display(15,26)"
      ],
      "execution_count": null,
      "outputs": [
        {
          "output_type": "stream",
          "text": [
            "addition is  41\n",
            "this is end of program\n",
            "tq\n"
          ],
          "name": "stdout"
        }
      ]
    },
    {
      "cell_type": "code",
      "metadata": {
        "id": "m5TG5Wb6V7cX"
      },
      "source": [
        "import module2"
      ],
      "execution_count": null,
      "outputs": []
    },
    {
      "cell_type": "code",
      "metadata": {
        "id": "wihxl4SyV7cX",
        "outputId": "8351c870-edbf-45c2-ae23-869cea809f09"
      },
      "source": [
        "module2.result()"
      ],
      "execution_count": null,
      "outputs": [
        {
          "output_type": "stream",
          "text": [
            "passing percentage is 95%\n"
          ],
          "name": "stdout"
        }
      ]
    },
    {
      "cell_type": "code",
      "metadata": {
        "id": "fwrERCrGV7cX",
        "outputId": "16769c2b-f343-493e-fc9a-ad5ec970a0f4"
      },
      "source": [
        "module2.roll"
      ],
      "execution_count": null,
      "outputs": [
        {
          "output_type": "execute_result",
          "data": {
            "text/plain": [
              "[12, 5, 14, 6, 4, 8, 5]"
            ]
          },
          "metadata": {
            "tags": []
          },
          "execution_count": 11
        }
      ]
    },
    {
      "cell_type": "code",
      "metadata": {
        "id": "EDisZMkJV7cX"
      },
      "source": [
        ""
      ],
      "execution_count": null,
      "outputs": []
    }
  ]
}